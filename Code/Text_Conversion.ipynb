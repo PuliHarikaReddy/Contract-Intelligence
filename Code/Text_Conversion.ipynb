{
 "cells": [
  {
   "cell_type": "code",
   "execution_count": 89,
   "id": "0398b7a4",
   "metadata": {},
   "outputs": [],
   "source": [
    "# Importing necessary libraries\n",
    "\n",
    "import glob\n",
    "import os\n",
    "import pandas as pd\n",
    "import numpy as np\n",
    "from docx import Document\n",
    "import re\n",
    "import PyPDF2\n",
    "import openpyxl\n",
    "import spacy"
   ]
  },
  {
   "cell_type": "code",
   "execution_count": 90,
   "id": "0b5854ce",
   "metadata": {},
   "outputs": [],
   "source": [
    "# All the datasets i.e., the raw contract files are present in Final Contracts Directory\n",
    "# The First step is to convert all these pdf, word files into text format.\n",
    "# Path for output files i.e., files after conversion are saved in Text_Files Directory\n",
    "\n",
    "file_path = 'Final Contracts//'\n",
    "out_file_path='Text_Files//'"
   ]
  },
  {
   "cell_type": "code",
   "execution_count": 91,
   "id": "c53a9de1",
   "metadata": {},
   "outputs": [],
   "source": [
    "# All the pdf, word files in the directory are loaded into a list using os library\n",
    "\n",
    "file_list = os.listdir(file_path)"
   ]
  },
  {
   "cell_type": "code",
   "execution_count": 92,
   "id": "135c5449",
   "metadata": {},
   "outputs": [
    {
     "data": {
      "text/plain": [
       "['Contract_FM_1.docx',\n",
       " 'Contract_FM_10.docx',\n",
       " 'Contract_FM_11.docx',\n",
       " 'Contract_FM_13.docx',\n",
       " 'Contract_FM_18.docx',\n",
       " 'Contract_FM_19.docx',\n",
       " 'Contract_FM_20.docx',\n",
       " 'Contract_FM_21.docx',\n",
       " 'Contract_FM_26.docx',\n",
       " 'Contract_FM_3.docx',\n",
       " 'Contract_FM_30.docx',\n",
       " 'Contract_FM_32.docx',\n",
       " 'Contract_FM_34.docx',\n",
       " 'Contract_FM_35.docx',\n",
       " 'Contract_FM_37.docx',\n",
       " 'Contract_FM_38.docx',\n",
       " 'Contract_FM_4.docx',\n",
       " 'Contract_FM_5.docx',\n",
       " 'Contract_FM_6.docx',\n",
       " 'Contract_FM_7.docx',\n",
       " 'Contract_FM_9.docx',\n",
       " 'Contract_NO_1.docx',\n",
       " 'Contract_NO_11.docx',\n",
       " 'Contract_NO_12.docx',\n",
       " 'Contract_NO_13.docx',\n",
       " 'Contract_NO_14.docx',\n",
       " 'Contract_NO_3.docx',\n",
       " 'Contract_NO_5.docx',\n",
       " 'Contract_NO_7.docx',\n",
       " 'Contract_NO_9.docx',\n",
       " 'Contract_PAN_1.docx',\n",
       " 'Contract_PAN_10.docx',\n",
       " 'Contract_PAN_11.docx',\n",
       " 'Contract_PAN_2.docx',\n",
       " 'Contract_PAN_20.docx',\n",
       " 'Contract_PAN_21.docx',\n",
       " 'Contract_PAN_22.docx',\n",
       " 'Contract_PAN_23.docx',\n",
       " 'Contract_PAN_3.docx',\n",
       " 'Contract_PAN_4.docx',\n",
       " 'Contract_PAN_5.docx',\n",
       " 'Contract_PAN_6.docx',\n",
       " 'Contract_PAN_7.docx',\n",
       " 'Contract_PAN_9.docx']"
      ]
     },
     "execution_count": 92,
     "metadata": {},
     "output_type": "execute_result"
    }
   ],
   "source": [
    "# All files ending with .docx are stored into docx_list \n",
    "# All .pdf files are loaded into a pdf_list\n",
    "\n",
    "docx_list = [file for file in file_list if file.endswith('.docx')]\n",
    "pdf_list = [file for file in file_list if file.endswith('.pdf')]\n",
    "docx_list"
   ]
  },
  {
   "cell_type": "code",
   "execution_count": 93,
   "id": "2492bdf5",
   "metadata": {},
   "outputs": [],
   "source": [
    "# Converting all docx files to text\n",
    "# First we create an instance for each document in the source path\n",
    "# Replace .docx with .txt\n",
    "# Then the text file is written into output directory\n",
    "# While writing into text files, we are removing the white spaces.\n",
    "\n",
    "for doc in docx_list:\n",
    "    document = Document(file_path+doc)\n",
    "    text_filename = doc.replace('.docx','.txt')\n",
    "    file = open(out_file_path+text_filename , mode='w')\n",
    "    for para in document.paragraphs:\n",
    "        file.write(re.sub('[^A-Za-z0-9.() ]+', '', para.text))\n",
    "    file.close()"
   ]
  },
  {
   "cell_type": "code",
   "execution_count": 94,
   "id": "dacab901",
   "metadata": {},
   "outputs": [],
   "source": [
    "# Converting all Pdf files to text\n",
    "# First we create an instance for each document in the source path\n",
    "# Replace .pdf with .txt\n",
    "# Each pdf file is read using PyPDF2.PdfFileReader\n",
    "# Then the text file is written into output directory\n",
    "# While writing into text files, no of pages for each file is obtained using pdf.getNumpages. \n",
    "# And in each page, white spaces are removed\n",
    "\n",
    "for doc in pdf_list:    \n",
    "    text_filename = doc.replace('.pdf','_pdf.txt')\n",
    "    pdf = PyPDF2.PdfFileReader(file_path+doc)\n",
    "    file = open(out_file_path+text_filename , mode='w')\n",
    "    for i in range(pdf.getNumPages()):\n",
    "        file.write(re.sub('[^A-Za-z0-9.() ]+', '', pdf.getPage(i).extractText()))\n",
    "    file.close()"
   ]
  },
  {
   "cell_type": "code",
   "execution_count": 97,
   "id": "92bcfb76",
   "metadata": {},
   "outputs": [],
   "source": [
    "# Combining text files to an excel\n",
    "\n",
    "txt_list = os.listdir(out_file_path)\n",
    "\n",
    "wb = openpyxl.Workbook()\n",
    "ws = wb.active\n",
    "ws['A1'] = 'txt'\n",
    "ws['B1'] = 'file_name' \n",
    "\n",
    "for num,file in enumerate(txt_list):    \n",
    "    f = open( out_file_path+file , 'rb')\n",
    "    txt = f.read()\n",
    "    ws['A'+ str(num+2)] = txt\n",
    "    ws['B'+ str(num+2)] = file \n",
    "    f.close()\n",
    "    \n",
    "wb.save('contract_data.xlsx')\n",
    "text_data = pd.read_excel(\"contract_data.xlsx\")"
   ]
  },
  {
   "cell_type": "code",
   "execution_count": 98,
   "id": "2fa651d2",
   "metadata": {},
   "outputs": [],
   "source": [
    "# Searching for Force Majeure clause using regex\n",
    "\n",
    "def extract_forcemajeure(text):\n",
    "    fm = re.compile(r'force majeure')\n",
    "    a = fm.search(text.lower())\n",
    "    if a:\n",
    "        return 'Yes'\n",
    "    else:\n",
    "        return 'No'\n",
    "        "
   ]
  },
  {
   "cell_type": "code",
   "execution_count": 99,
   "id": "ca537803",
   "metadata": {},
   "outputs": [],
   "source": [
    "# Searching for key words like pandmeic/epidemic/disease inside a force majeure clause\n",
    "\n",
    "def extract_pandemic(text):\n",
    "    fm = re.compile(r'force majeure')\n",
    "    pan = re.compile(r'pandemic|disease|epidemic|pandemics|epidemics')\n",
    "    \n",
    "    a = [i.start() for i in fm.finditer(text.lower())]\n",
    "    b = pan.search(text.lower())\n",
    "    \n",
    "    if a:\n",
    "        fm_idx_first = a[0]\n",
    "        fm_idx_last = a[-1]\n",
    "    else:\n",
    "        fm_idx_first = -1\n",
    "        fm_idx_last = -1\n",
    "    if b:\n",
    "        pan_idx = b.span()[1]\n",
    "    else:\n",
    "        pan_idx = -1\n",
    "        \n",
    "    if fm_idx_first == -1:\n",
    "        return 'No'\n",
    "    elif fm_idx_first < pan_idx < fm_idx_last:\n",
    "        return 'Yes'\n",
    "    else:\n",
    "        return 'No'"
   ]
  },
  {
   "cell_type": "code",
   "execution_count": 104,
   "id": "0a4a7400",
   "metadata": {},
   "outputs": [],
   "source": [
    "# \n",
    "def ner_extract(df):\n",
    "    \n",
    "    #Loading the custom trained spacy model\n",
    "    model_path = \"C:\\\\Users\\\\Harika\\\\Documents\\\\Masters\\\\ML\\\\Project\\\\contract_ner_model\\\\\"\n",
    "    nlp = spacy.load(model_path)\n",
    "    \n",
    "    liability_pattern = ['Neither Party', 'Either Party', 'either party','neither party','No Party', 'no party', 'Neither the Authority nor the Operator']\n",
    "\n",
    "    fm_clause = df['txt']\n",
    "    fm_name = df['file_name']\n",
    "    size  = len(fm_clause)\n",
    "    liability_lst = [None]*size\n",
    "    notice_lst = [None]*size\n",
    "    termination_lst = [None]*size\n",
    "    for row in range(0,len(fm_clause)):\n",
    "        \n",
    "        test_text = str(fm_clause[row])\n",
    "        if test_text is not None:\n",
    "            doc = nlp(test_text)\n",
    "        else:\n",
    "            continue\n",
    "    #     print(\"Entities in '%s'\" % test_text)\n",
    "        for ent in doc.ents:\n",
    "    #         print(ent.label_, ent.text)\n",
    "            if ent.label_ == \"Liability\" and ent.text in liability_pattern:\n",
    "                liability_lst[row] = ent.text\n",
    "            elif ent.label_ == \"Notification_type\":\n",
    "                notice_lst[row] = ent.text\n",
    "            elif ent.label_ == \"Termination_period\":\n",
    "                if 'months' in  ent.text:\n",
    "                    months = int(re.findall(r'\\d+',ent.text)[0])\n",
    "                    termination_lst[row] = months*30\n",
    "                #elif 'months' not in ent.text:\n",
    "                    #termination_lst[row] = (re.findall(r'\\d+',ent.text)[0])\n",
    "                else:\n",
    "                    continue\n",
    "            else:\n",
    "                continue\n",
    "            \n",
    "    dic ={'file_name':fm_name,'Force_Majeure':df['force_majeure'],'Pandemic_or_disease':df['pandemic_or_disease'],'Liability':liability_lst, 'Notification_type':notice_lst, 'Termination_period':termination_lst}            \n",
    "    df_new = pd.DataFrame(dic)\n",
    "    return df_new"
   ]
  },
  {
   "cell_type": "code",
   "execution_count": 105,
   "id": "18326faf",
   "metadata": {},
   "outputs": [],
   "source": [
    "from pandas import ExcelWriter\n",
    "from pandas import ExcelFile"
   ]
  },
  {
   "cell_type": "code",
   "execution_count": 106,
   "id": "9f661e24",
   "metadata": {},
   "outputs": [],
   "source": [
    "contract_df = pd.read_excel(\"contract_data.xlsx\")\n",
    "contract_df['force_majeure'] = contract_df['txt'].astype(str).apply(lambda x : extract_forcemajeure(x))\n",
    "contract_df['pandemic_or_disease'] = contract_df['txt'].astype(str).apply(lambda x : extract_pandemic(x))"
   ]
  },
  {
   "cell_type": "code",
   "execution_count": 107,
   "id": "cc243896",
   "metadata": {},
   "outputs": [
    {
     "name": "stdout",
     "output_type": "stream",
     "text": [
      "                                                  txt               file_name  \\\n",
      "0   SCHEDULE D FORM OF STATEMENT OF WORKStatement ...       Contract_FM_1.txt   \n",
      "1   SCHEDULE D FORM OF STATEMENT OF WORKStatement ...      Contract_FM_10.txt   \n",
      "2   SCHEDULE D FORM OF STATEMENT OF WORKStatement ...      Contract_FM_11.txt   \n",
      "3   SCHEDULE D  FORM OF STATEMENT OF WORK  Stateme...  Contract_FM_12_pdf.txt   \n",
      "4   SCHEDULE D FORM OF STATEMENT OF WORKStatement ...      Contract_FM_13.txt   \n",
      "..                                                ...                     ...   \n",
      "84  SCHEDULE D FORM OF STATEMENT OF WORKStatement ...      Contract_PAN_5.txt   \n",
      "85  SCHEDULE D FORM OF STATEMENT OF WORKStatement ...      Contract_PAN_6.txt   \n",
      "86  SCHEDULE D FORM OF STATEMENT OF WORKStatement ...      Contract_PAN_7.txt   \n",
      "87  SCHEDULE D  FORM OF STATEMENT OF WORK  Stateme...  Contract_PAN_8_pdf.txt   \n",
      "88  SCHEDULE D FORM OF STATEMENT OF WORKStatement ...      Contract_PAN_9.txt   \n",
      "\n",
      "   force_majeure pandemic_or_disease  \n",
      "0            Yes                 Yes  \n",
      "1            Yes                  No  \n",
      "2            Yes                  No  \n",
      "3            Yes                  No  \n",
      "4            Yes                  No  \n",
      "..           ...                 ...  \n",
      "84           Yes                 Yes  \n",
      "85           Yes                 Yes  \n",
      "86           Yes                 Yes  \n",
      "87           Yes                 Yes  \n",
      "88           Yes                 Yes  \n",
      "\n",
      "[89 rows x 4 columns]\n"
     ]
    }
   ],
   "source": [
    "#Calling ner_extract function to apply trained model on the force majeure text\n",
    "final_extract = ner_extract(contract_df)\n",
    "print(contract_df)\n",
    "\n",
    "final_extract.to_excel('Final_Extract.xlsx')"
   ]
  },
  {
   "cell_type": "code",
   "execution_count": null,
   "id": "f0e22f12",
   "metadata": {},
   "outputs": [],
   "source": []
  }
 ],
 "metadata": {
  "kernelspec": {
   "display_name": "Python 3 (ipykernel)",
   "language": "python",
   "name": "python3"
  },
  "language_info": {
   "codemirror_mode": {
    "name": "ipython",
    "version": 3
   },
   "file_extension": ".py",
   "mimetype": "text/x-python",
   "name": "python",
   "nbconvert_exporter": "python",
   "pygments_lexer": "ipython3",
   "version": "3.7.2"
  }
 },
 "nbformat": 4,
 "nbformat_minor": 5
}
